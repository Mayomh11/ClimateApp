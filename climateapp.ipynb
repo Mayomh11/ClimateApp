{
 "cells": [
  {
   "cell_type": "code",
   "execution_count": 1,
   "metadata": {},
   "outputs": [],
   "source": [
    "# Import Flask\n",
    "from flask import Flask, jsonify\n",
    "\n",
    "# Create an app, being sure to pass __name__ (boilerplate)\n",
    "app = Flask(__name__)\n",
    "\n",
    "# HOME PAGE: when a user hits the index route, list all available api routes.\n",
    "@app.route(\"/\")\n",
    "def home():\n",
    "    print(\"Server received request for 'Hawaii Climate' page. List all available api routes.\")\n",
    "    return(\n",
    "        f\"Welcome to my 'Hawaii Climate' page!<br>\"\n",
    "        f\"Available Routes:<br>\"\n",
    "        f\"/api/v1.0/precipitation<br>\"\n",
    "        f\"/api/v1.0/stations<br>\"\n",
    "        f\"/api/v1.0/tobs<br>\"\n",
    "    )"
   ]
  },
  {
   "cell_type": "code",
   "execution_count": 2,
   "metadata": {},
   "outputs": [],
   "source": [
    "\n",
    "# /api/v1.0/stations\n",
    "# Convert the query results to a Dictionary using date as the key and prcp as the value.\n",
    "# Return the JSON representation of your dictionary.\n",
    "\n",
    "@app.route(\"/api/v1.0/precipitation\")\n",
    "def precipitation():\n",
    "    dict = {}\n",
    "    data = df[(df.date >= str(prev_year)) & (df.date <= str(today))].groupby(['date']).sum()\n",
    "    for index, row in df.iterrows():\n",
    "       dict[row.date] = row.prcp\n",
    "    return jsonify(dict)"
   ]
  },
  {
   "cell_type": "code",
   "execution_count": 3,
   "metadata": {},
   "outputs": [],
   "source": [
    "# /api/v1.0/stations\n",
    "# Return a JSON list of stations from the dataset.\n",
    "@app.route(\"/api/v1.0/stations\")\n",
    "def stations():\n",
    "    stations = list(df.measurement.unique())\n",
    "    return jsonify(stations)"
   ]
  },
  {
   "cell_type": "code",
   "execution_count": 4,
   "metadata": {},
   "outputs": [],
   "source": [
    "# /api/v1.0/tobs\n",
    "# query for the dates and temperature observations from a year from the last data point.\n",
    "# Return a JSON list of Temperature Observations (tobs) for the previous year.\n",
    "\n",
    "@app.route(\"/api/v1.0/tobs\")\n",
    "def tobs():\n",
    "    results = session.query(measurement.date, measurement.tobs).filter(measurement.date >= prev_year).all()\n",
    "    temp_results = list(np.ravel(results))\n",
    "    return jsonify(temp_results)"
   ]
  },
  {
   "cell_type": "code",
   "execution_count": 5,
   "metadata": {},
   "outputs": [],
   "source": [
    "\n",
    "# /api/v1.0/<start> \n",
    "# Return a JSON list of the minimum temperature, the average temperature, and the max temperature for a given start or start-end range.\n",
    "# When given the start only, calculate TMIN, TAVG, and TMAX for all dates greater than and equal to the start date.\n",
    "\n",
    "@app.route(\"/api/v1.0/<start>\")\n",
    "def temp_start(start):\n",
    "    temps = df[(dfdate >= start)]\n",
    "    min_temp = temps.tobs.min()\n",
    "    max_temp = temps.tobs.max()\n",
    "    avg_temp = temps.tobs.mean()\n",
    "    return jsonify({\"min_temp\": int(min_temp), \"max_temp\": int(max_temp), \"avg_temp\": (avg_temp)})"
   ]
  },
  {
   "cell_type": "code",
   "execution_count": 6,
   "metadata": {},
   "outputs": [],
   "source": [
    "# /api/v1.0/<start>/<end>\n",
    "# Return a JSON list of the minimum temperature, the average temperature, and the max temperature for a given start or start-end range.\n",
    "# When given the start and the end date, calculate the TMIN, TAVG, and TMAX for dates between the start and end date inclusive.\n",
    "\n",
    "@app.route(\"/api/v1.0/<start>/<end>\")\n",
    "def temp_start_end(start, end):\n",
    "    temps = df[(dfdate >= start) & (df.date <= end)]\n",
    "    min_temp = temps.tobs.min()\n",
    "    max_temp = temps.tobs.max()\n",
    "    avg_temp = temps.tobs.mean()\n",
    "    return jsonify({\"min_temp\": int(min_temp), \"max_temp\": int(max_temp), \"avg_temp\": (avg_temp)})"
   ]
  },
  {
   "cell_type": "code",
   "execution_count": 7,
   "metadata": {},
   "outputs": [
    {
     "name": "stdout",
     "output_type": "stream",
     "text": [
      " * Serving Flask app \"__main__\" (lazy loading)\n",
      " * Environment: production\n",
      "   WARNING: Do not use the development server in a production environment.\n",
      "   Use a production WSGI server instead.\n",
      " * Debug mode: on\n"
     ]
    },
    {
     "name": "stderr",
     "output_type": "stream",
     "text": [
      " * Restarting with stat\n"
     ]
    },
    {
     "ename": "SystemExit",
     "evalue": "1",
     "output_type": "error",
     "traceback": [
      "An exception has occurred, use %tb to see the full traceback.\n",
      "\u001b[1;31mSystemExit\u001b[0m\u001b[1;31m:\u001b[0m 1\n"
     ]
    },
    {
     "name": "stderr",
     "output_type": "stream",
     "text": [
      "C:\\Users\\Owner\\Anaconda3\\envs\\PythonData\\lib\\site-packages\\IPython\\core\\interactiveshell.py:3304: UserWarning: To exit: use 'exit', 'quit', or Ctrl-D.\n",
      "  warn(\"To exit: use 'exit', 'quit', or Ctrl-D.\", stacklevel=1)\n"
     ]
    }
   ],
   "source": [
    "# Add boilerplade debugger at the end of the code.\n",
    "if __name__ == \"__main__\":\n",
    "    app.run(debug=True)"
   ]
  },
  {
   "cell_type": "code",
   "execution_count": null,
   "metadata": {},
   "outputs": [],
   "source": []
  }
 ],
 "metadata": {
  "kernelspec": {
   "display_name": "Python 3",
   "language": "python",
   "name": "python3"
  },
  "language_info": {
   "codemirror_mode": {
    "name": "ipython",
    "version": 3
   },
   "file_extension": ".py",
   "mimetype": "text/x-python",
   "name": "python",
   "nbconvert_exporter": "python",
   "pygments_lexer": "ipython3",
   "version": "3.6.8"
  }
 },
 "nbformat": 4,
 "nbformat_minor": 2
}
